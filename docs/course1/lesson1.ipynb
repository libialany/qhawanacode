{
  "cells": [
    {
      "cell_type": "code",
      "source": [
        "var1 = 1\n",
        "var2 = 2\n",
        "var1 + var2"
      ],
      "metadata": {
        "id": "dm6pw0EMqeM5",
        "outputId": "b52260a4-8c29-4f1e-b5bb-5ffafec824b1",
        "colab": {
          "base_uri": "https://localhost:8080/"
        }
      },
      "execution_count": 1,
      "outputs": [
        {
          "output_type": "execute_result",
          "data": {
            "text/plain": [
              "3"
            ]
          },
          "metadata": {},
          "execution_count": 1
        }
      ]
    }
  ],
  "metadata": {
    "colab": {
      "name": "Markdown Guide",
      "provenance": []
    },
    "kernelspec": {
      "display_name": "Python 3",
      "name": "python3"
    }
  },
  "nbformat": 4,
  "nbformat_minor": 0
}