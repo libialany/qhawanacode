{
  "cells": [
    {
      "cell_type": "markdown",
      "source": [
        "# LECCION 2"
      ],
      "metadata": {
        "id": "hsk-_-vvcSl7"
      }
    },
    {
      "cell_type": "markdown",
      "source": [
        "**Ejercicio 1**\n",
        "Crear una 3 variables, cada una de tu comida favorita y despues muestralas con la funcion print cada una.\n",
        "\n",
        "```\n",
        "comida1 = \"chocolate\"\n",
        "comida2 = \"helado\"\n",
        "comida3 = \"mani\"\n",
        "print()\n",
        "```"
      ],
      "metadata": {
        "id": "HDOfMbSlcXAB"
      }
    },
    {
      "cell_type": "code",
      "source": [
        "# ESTUDIANTE 1\n",
        ".......escribe aqui como en ejemplo....."
      ],
      "metadata": {
        "colab": {
          "base_uri": "https://localhost:8080/"
        },
        "id": "WnYPG4laceib",
        "outputId": "17d753f0-acf1-460b-80f2-46277be5dffc"
      },
      "execution_count": null,
      "outputs": [
        {
          "output_type": "stream",
          "name": "stdout",
          "text": [
            "Lisa\n"
          ]
        }
      ]
    },
    {
      "cell_type": "code",
      "source": [
        "# ESTUDIANTE 2\n",
        ".......escribe aqui como en ejemplo....."
      ],
      "metadata": {
        "id": "dm6pw0EMqeM5"
      },
      "execution_count": null,
      "outputs": []
    },
    {
      "cell_type": "markdown",
      "source": [
        "**EJERCICIO 2**\n",
        "Crea una lista con las variables creadas anteriormente y despues muestralas con la funcion print la lista.\n",
        "\n",
        "```\n",
        "favoritos = [comida1, comida2, comida3]\n",
        "print()\n",
        "```"
      ],
      "metadata": {
        "id": "vmSO71x6di3u"
      }
    },
    {
      "cell_type": "code",
      "source": [
        " #  estudiante 1\n",
        " .......escribe aqui como en ejemplo....."
      ],
      "metadata": {
        "id": "oF_qYmQld52P"
      },
      "execution_count": null,
      "outputs": []
    },
    {
      "cell_type": "code",
      "source": [
        "#  estudiante 2\n",
        ".......escribe aqui como en ejemplo....."
      ],
      "metadata": {
        "id": "e769Ob2AeHET"
      },
      "execution_count": null,
      "outputs": []
    },
    {
      "cell_type": "markdown",
      "source": [
        "# Repaso de funciones\n",
        "```\n",
        "def saludo(nombre):\n",
        "  print(\"hola \"+ nombre)\n",
        "```\n",
        "\n",
        "como llamo a la función?"
      ],
      "metadata": {
        "id": "kpoPVOmoeLLP"
      }
    },
    {
      "cell_type": "code",
      "source": [
        "def saludo(nombre):\n",
        "  print(\"hola \"+ nombre)\n",
        "nombre=\"Maria\"\n",
        "saludo(nombre)"
      ],
      "metadata": {
        "colab": {
          "base_uri": "https://localhost:8080/"
        },
        "id": "F6kDWCILt4N4",
        "outputId": "de9eb81a-1d01-4e94-f261-5758102d107d"
      },
      "execution_count": null,
      "outputs": [
        {
          "output_type": "stream",
          "name": "stdout",
          "text": [
            "hola Maria\n"
          ]
        }
      ]
    },
    {
      "cell_type": "code",
      "source": [
        "\n",
        "def decir_edad():\n",
        "  print(\"hola \"+ edad)\n"
      ],
      "metadata": {
        "id": "TtYRK9Awev3v"
      },
      "execution_count": null,
      "outputs": []
    },
    {
      "cell_type": "code",
      "source": [
        "def decir_un_chiste(chiste):\n",
        "  print(\"hola chiste\")\n"
      ],
      "metadata": {
        "id": "3gkRsTc4ewH_"
      },
      "execution_count": null,
      "outputs": []
    }
  ],
  "metadata": {
    "colab": {
      "name": "Markdown Guide",
      "provenance": []
    },
    "kernelspec": {
      "display_name": "Python 3",
      "name": "python3"
    }
  },
  "nbformat": 4,
  "nbformat_minor": 0
}