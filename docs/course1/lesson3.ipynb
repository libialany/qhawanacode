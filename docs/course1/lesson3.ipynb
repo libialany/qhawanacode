{
  "cells": [
    {
      "cell_type": "markdown",
      "source": [
        "# LECCION 3"
      ],
      "metadata": {
        "id": "hsk-_-vvcSl7"
      }
    },
    {
      "cell_type": "markdown",
      "source": [
        "**cre una funcion que mustre tu pelicaula favorita:**\n",
        "```\n",
        "def show_movie_title():\n",
        "    print(\"The Lion King\")\n",
        "\n",
        "show_movie_title()\n",
        "\n",
        "```"
      ],
      "metadata": {
        "id": "c_O6txL6lQCR"
      }
    },
    {
      "cell_type": "code",
      "source": [
        "------ESCRIBE AQUI----"
      ],
      "metadata": {
        "id": "NaNEPQJblcCn"
      },
      "execution_count": null,
      "outputs": []
    },
    {
      "cell_type": "markdown",
      "source": [
        "**Crea una funcion qu muestre detalle de tu pelicula favorita:**\n",
        "```\n",
        "def movie_details(name, year, director):\n",
        "    print(\"Movie Name:\", name)\n",
        "    print(\"Release Year:\", year)\n",
        "    print(\"Director:\", director)\n",
        "nombre=\"Toy Story\"\n",
        "anio=1995\n",
        "genero=\"animado\"\n",
        "movie_details(nombre, anio, genero)\n",
        "```\n"
      ],
      "metadata": {
        "id": "_uvkDbAalgX8"
      }
    },
    {
      "cell_type": "code",
      "source": [
        "------ESCRIBE AQUI----"
      ],
      "metadata": {
        "id": "lwt3it6ulftN"
      },
      "execution_count": null,
      "outputs": []
    },
    {
      "cell_type": "markdown",
      "source": [
        "**crea una lista de tus peliculas favoritas y muestra dentro de tu funcion**\n",
        "```\n",
        "def lista_pelicula_favoritas(movie_list, movie_name):\n",
        "  print(f\"{movie_name} is in the list!\")\n",
        "\n",
        "movies = [\"Avatar\", \"Inception\", \"The Lion King\", \"Frozen\", \"Spider-Man\"]\n",
        "lista_pelicula_favoritas(movies, \"Batman\")   \n",
        "```"
      ],
      "metadata": {
        "id": "QmYjJEADlgkY"
      }
    },
    {
      "cell_type": "code",
      "source": [
        "------ESCRIBE AQUI----"
      ],
      "metadata": {
        "id": "-T5In7xVlfMc"
      },
      "execution_count": null,
      "outputs": []
    }
  ],
  "metadata": {
    "colab": {
      "name": "Markdown Guide",
      "provenance": []
    },
    "kernelspec": {
      "display_name": "Python 3",
      "name": "python3"
    }
  },
  "nbformat": 4,
  "nbformat_minor": 0
}