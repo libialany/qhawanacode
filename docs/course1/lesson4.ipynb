{
  "cells": [
    {
      "cell_type": "markdown",
      "source": [
        "# LECCION 4"
      ],
      "metadata": {
        "id": "hsk-_-vvcSl7"
      }
    },
    {
      "cell_type": "markdown",
      "source": [
        "**Teniendo una funcion llamada muestra_nombre_pelicula usala:**\n",
        "```\n",
        "def muestra_nombre_pelicula():\n",
        "    print(\"The Lion King\")\n",
        "\n",
        "\n",
        "```"
      ],
      "metadata": {
        "id": "c_O6txL6lQCR"
      }
    },
    {
      "cell_type": "code",
      "source": [
        "------ESCRIBE AQUI TU RESPUESTA----"
      ],
      "metadata": {
        "id": "NaNEPQJblcCn"
      },
      "execution_count": null,
      "outputs": []
    }
  ],
  "metadata": {
    "colab": {
      "name": "Markdown Guide",
      "provenance": []
    },
    "kernelspec": {
      "display_name": "Python 3",
      "name": "python3"
    }
  },
  "nbformat": 4,
  "nbformat_minor": 0
}